{
 "cells": [
  {
   "cell_type": "code",
   "execution_count": 1,
   "metadata": {},
   "outputs": [],
   "source": [
    "# notebook of the audio pattern recognition project\n",
    "# Marco Nicolini\n",
    "import tensorflow as tf\n",
    "import os\n",
    "import numpy as np \n",
    "import pandas as pd \n",
    "import librosa\n",
    "import librosa.display\n",
    "import matplotlib.pyplot as plt\n",
    "from matplotlib.pyplot import specgram\n",
    "import glob \n",
    "from sklearn.metrics import confusion_matrix\n",
    "import IPython.display as ipd  # To play sound in the notebook\n",
    "import sys\n",
    "\n",
    "CREMA = 'Crema/'\n",
    "TESS = 'Tess/'\n",
    "RAV = 'Ravdess/'\n",
    "SAVEE = 'Savee/'\n",
    "EMOVO = 'EMOVO/'\n",
    "EMODB = 'EmoDB/'\n",
    "SHEMO = 'ShEMO/'\n",
    "URDU = 'URDU/'\n",
    "JL = 'JLcorpus/'\n",
    "AESDD = 'AESDD/'"
   ]
  },
  {
   "cell_type": "markdown",
   "metadata": {},
   "source": [
    "<h3>CREMA-D dataset</h3>"
   ]
  },
  {
   "cell_type": "markdown",
   "metadata": {},
   "source": [
    "<a href=\"https://github.com/CheyneyComputerScience/CREMA-D\">CREMA-D link</a>"
   ]
  },
  {
   "cell_type": "code",
   "execution_count": 2,
   "metadata": {},
   "outputs": [
    {
     "data": {
      "text/plain": [
       "angry      1271\n",
       "disgust    1271\n",
       "fear       1271\n",
       "happy      1271\n",
       "sad        1271\n",
       "neutral    1087\n",
       "Name: labels, dtype: int64"
      ]
     },
     "execution_count": 2,
     "metadata": {},
     "output_type": "execute_result"
    }
   ],
   "source": [
    "dir_list = os.listdir(CREMA)\n",
    "dir_list.sort()\n",
    "gender = []\n",
    "emotion = []\n",
    "path = []\n",
    "female = [1002,1003,1004,1006,1007,1008,1009,1010,1012,1013,1018,1020,1021,1024,1025,1028,1029,1030,1037,1043,1046,1047,1049,\n",
    "          1052,1053,1054,1055,1056,1058,1060,1061,1063,1072,1073,1074,1075,1076,1078,1079,1082,1084,1089,1091]\n",
    "\n",
    "for i in dir_list: \n",
    "    part = i.split('_')\n",
    "    if int(part[0]) in female:\n",
    "        temp = 'female'\n",
    "    else:\n",
    "        temp = 'male'\n",
    "    gender.append(temp)\n",
    "    if part[2] == 'SAD':\n",
    "        emotion.append('sad')\n",
    "    elif part[2] == 'ANG':\n",
    "        emotion.append('angry')\n",
    "    elif part[2] == 'DIS':\n",
    "        emotion.append('disgust')\n",
    "    elif part[2] == 'FEA':\n",
    "        emotion.append('fear')\n",
    "    elif part[2] == 'HAP':\n",
    "        emotion.append('happy')\n",
    "    elif part[2] == 'NEU':\n",
    "        emotion.append('neutral')\n",
    "    else:\n",
    "        emotion.append('Unknown')\n",
    "    path.append(CREMA + i)\n",
    "    \n",
    "CREMA_df = pd.DataFrame(emotion, columns = ['labels'])\n",
    "CREMA_df = pd.concat([CREMA_df,pd.DataFrame(gender, columns = ['gender'])],axis=1)\n",
    "CREMA_df['source'] = 'CREMA'\n",
    "CREMA_df = pd.concat([CREMA_df,pd.DataFrame(path, columns = ['path'])],axis=1)\n",
    "CREMA_df.labels.value_counts()"
   ]
  },
  {
   "cell_type": "markdown",
   "metadata": {},
   "source": [
    "<h3>SAVEE dataset</h3>"
   ]
  },
  {
   "cell_type": "markdown",
   "metadata": {},
   "source": [
    "<a href=\"http://kahlan.eps.surrey.ac.uk/savee/\">SAVEE link</a>"
   ]
  },
  {
   "cell_type": "code",
   "execution_count": 3,
   "metadata": {},
   "outputs": [
    {
     "data": {
      "text/plain": [
       "neutral     120\n",
       "sad          60\n",
       "surprise     60\n",
       "fear         60\n",
       "disgust      60\n",
       "happy        60\n",
       "angry        60\n",
       "Name: labels, dtype: int64"
      ]
     },
     "execution_count": 3,
     "metadata": {},
     "output_type": "execute_result"
    }
   ],
   "source": [
    "# Get the data location for SAVEE\n",
    "dir_list = os.listdir(SAVEE)\n",
    "\n",
    "# parse the filename to get the emotions\n",
    "emotion=[]\n",
    "path = []\n",
    "gender = []\n",
    "for i in dir_list:\n",
    "    gender.append('male')\n",
    "    if i[-8:-6]=='_a':\n",
    "        emotion.append('angry')\n",
    "    elif i[-8:-6]=='_d':\n",
    "        emotion.append('disgust')\n",
    "    elif i[-8:-6]=='_f':\n",
    "        emotion.append('fear')\n",
    "    elif i[-8:-6]=='_h':\n",
    "        emotion.append('happy')\n",
    "    elif i[-8:-6]=='_n':\n",
    "        emotion.append('neutral')\n",
    "    elif i[-8:-6]=='sa':\n",
    "        emotion.append('sad')\n",
    "    elif i[-8:-6]=='su':\n",
    "        emotion.append('surprise')\n",
    "    else:\n",
    "        emotion.append('error') \n",
    "    path.append(SAVEE + i)\n",
    "    \n",
    "# Now check out the label count distribution \n",
    "SAVEE_df = pd.DataFrame(emotion, columns = ['labels'])\n",
    "SAVEE_df = pd.concat([SAVEE_df,pd.DataFrame(gender, columns = ['gender'])],axis=1)\n",
    "SAVEE_df['source'] = 'SAVEE'\n",
    "SAVEE_df = pd.concat([SAVEE_df, pd.DataFrame(path, columns = ['path'])], axis = 1)\n",
    "SAVEE_df.labels.value_counts()"
   ]
  },
  {
   "cell_type": "markdown",
   "metadata": {},
   "source": [
    "<h3>RAVDESS dataset</h3>"
   ]
  },
  {
   "cell_type": "markdown",
   "metadata": {},
   "source": [
    "<a href=\"https://zenodo.org/record/1188976#.YbMujC1abOQ\">RAVDESS link</a>"
   ]
  },
  {
   "cell_type": "code",
   "execution_count": 4,
   "metadata": {},
   "outputs": [
    {
     "data": {
      "text/plain": [
       "neutral     288\n",
       "surprise    192\n",
       "angry       192\n",
       "fear        192\n",
       "disgust     192\n",
       "sad         192\n",
       "happy       192\n",
       "Name: labels, dtype: int64"
      ]
     },
     "execution_count": 4,
     "metadata": {},
     "output_type": "execute_result"
    }
   ],
   "source": [
    "dir_list = os.listdir(RAV)\n",
    "dir_list.sort()\n",
    "if '.DS_Store' in dir_list:\n",
    "    dir_list = dir_list[1:]\n",
    "new_dir_list = []\n",
    "for i in dir_list:\n",
    "    new_dir_list.append(RAV + i)\n",
    "\n",
    "emotion = []\n",
    "gender = []\n",
    "path = []\n",
    "for i in new_dir_list:\n",
    "    fname = os.listdir(i)\n",
    "    for f in fname:\n",
    "        part = f.split('.')[0].split('-')\n",
    "        emotion.append(int(part[2]))\n",
    "        temp = int(part[6])\n",
    "        if temp%2 == 0:\n",
    "            temp = \"female\"\n",
    "        else:\n",
    "            temp = \"male\"\n",
    "        gender.append(temp)\n",
    "        path.append(i + '/' + f)\n",
    "\n",
    "     \n",
    "\n",
    "\n",
    "RAV_df = pd.DataFrame(emotion, columns = ['labels'])\n",
    "RAV_df = RAV_df.replace({1:'neutral', 2:'neutral', 3:'happy', 4:'sad', 5:'angry', 6:'fear', 7:'disgust', 8:'surprise'})\n",
    "RAV_df = pd.concat([RAV_df,pd.DataFrame(gender, columns = ['gender'])],axis=1)\n",
    "RAV_df['source'] = 'RAV'\n",
    "RAV_df = pd.concat([RAV_df, pd.DataFrame(path, columns = ['path'])], axis = 1)\n",
    "RAV_df.labels.value_counts()"
   ]
  },
  {
   "cell_type": "markdown",
   "metadata": {},
   "source": [
    "<h3>TESS dataset</h3>"
   ]
  },
  {
   "cell_type": "markdown",
   "metadata": {},
   "source": [
    "<a href=\"https://doi.org/10.5683/SP2/E8H2MF\">TESS link</a>"
   ]
  },
  {
   "cell_type": "code",
   "execution_count": 5,
   "metadata": {},
   "outputs": [
    {
     "data": {
      "text/plain": [
       "fear        400\n",
       "surprise    400\n",
       "sad         400\n",
       "angry       400\n",
       "disgust     400\n",
       "happy       400\n",
       "neutral     400\n",
       "Name: labels, dtype: int64"
      ]
     },
     "execution_count": 5,
     "metadata": {},
     "output_type": "execute_result"
    }
   ],
   "source": [
    "dir_list = os.listdir(TESS)\n",
    "dir_list.sort()\n",
    "if '.DS_Store' in dir_list:\n",
    "    dir_list = dir_list[1:]\n",
    "new_dir_list = []\n",
    "\n",
    "path = []\n",
    "emotion = []\n",
    "gender = []\n",
    "\n",
    "for i in dir_list:\n",
    "    fname = os.listdir(TESS + i)\n",
    "    for f in fname:\n",
    "        gender.append(\"female\")\n",
    "        if i == 'OAF_angry' or i == 'YAF_angry':\n",
    "            emotion.append('angry')\n",
    "        elif i == 'OAF_disgust' or i == 'YAF_disgust':\n",
    "            emotion.append('disgust')\n",
    "        elif i == 'OAF_Fear' or i == 'YAF_fear':\n",
    "            emotion.append('fear')\n",
    "        elif i == 'OAF_happy' or i == 'YAF_happy':\n",
    "            emotion.append('happy')\n",
    "        elif i == 'OAF_neutral' or i == 'YAF_neutral':\n",
    "            emotion.append('neutral')                                \n",
    "        elif i == 'OAF_Pleasant_surprise' or i == 'YAF_pleasant_surprised':\n",
    "            emotion.append('surprise')               \n",
    "        elif i == 'OAF_Sad' or i == 'YAF_sad':\n",
    "            emotion.append('sad')\n",
    "        else:\n",
    "            emotion.append('Unknown')\n",
    "        path.append(TESS + i + \"/\" + f)\n",
    "\n",
    "TESS_df = pd.DataFrame(emotion, columns = ['labels'])\n",
    "TESS_df = pd.concat([TESS_df,pd.DataFrame(gender, columns = ['gender'])],axis=1)\n",
    "TESS_df['source'] = 'TESS'\n",
    "TESS_df = pd.concat([TESS_df,pd.DataFrame(path, columns = ['path'])],axis=1)\n",
    "TESS_df.labels.value_counts()"
   ]
  },
  {
   "cell_type": "markdown",
   "metadata": {},
   "source": [
    "<h3>EMOVO dataset</h3>"
   ]
  },
  {
   "cell_type": "markdown",
   "metadata": {},
   "source": [
    "<a href=\"https://art.torvergata.it/handle/2108/97109\">EMOVO link</a>"
   ]
  },
  {
   "cell_type": "code",
   "execution_count": 6,
   "metadata": {},
   "outputs": [
    {
     "data": {
      "text/plain": [
       "surprise    84\n",
       "neutral     84\n",
       "sad         84\n",
       "fear        84\n",
       "disgust     84\n",
       "happy       84\n",
       "angry       84\n",
       "Name: labels, dtype: int64"
      ]
     },
     "execution_count": 6,
     "metadata": {},
     "output_type": "execute_result"
    }
   ],
   "source": [
    "dir_list = os.listdir(EMOVO)\n",
    "dir_list.sort()\n",
    "if '.DS_Store' in dir_list:\n",
    "    dir_list = dir_list[1:]\n",
    "new_dir_list = []\n",
    "for i in dir_list:\n",
    "    new_dir_list.append(EMOVO + i)\n",
    "new_dir_list\n",
    "\n",
    "emotion = []\n",
    "gender = []\n",
    "path = []\n",
    "for i in new_dir_list:\n",
    "    fname = os.listdir(i)\n",
    "    for f in fname:\n",
    "        part = f.split('-')\n",
    "        emotion.append(part[0])\n",
    "        temp = part[1]\n",
    "        if temp[0] == 'f':\n",
    "            temp = \"female\"\n",
    "        else:\n",
    "            temp = \"male\"\n",
    "        gender.append(temp)\n",
    "        path.append(i + '/' + f)\n",
    "        \n",
    "EMOVO_df = pd.DataFrame(emotion, columns = ['labels'])\n",
    "EMOVO_df = EMOVO_df.replace({'neu':'neutral', 'gio':'happy', 'tri':'sad', 'rab':'angry', 'pau':'fear', 'dis':'disgust', 'sor':'surprise'})\n",
    "EMOVO_df = pd.concat([EMOVO_df,pd.DataFrame(gender, columns = ['gender'])],axis=1)\n",
    "EMOVO_df['source'] = 'EMOVO'  \n",
    "EMOVO_df = pd.concat([EMOVO_df,pd.DataFrame(path, columns = ['path'])],axis=1)\n",
    "EMOVO_df.labels.value_counts()"
   ]
  },
  {
   "cell_type": "markdown",
   "metadata": {},
   "source": [
    "<h3>EmoDB dataset</h3>"
   ]
  },
  {
   "cell_type": "markdown",
   "metadata": {},
   "source": [
    "<a href=\"http://emodb.bilderbar.info/index-1280.html\">EmoDB link</a>"
   ]
  },
  {
   "cell_type": "code",
   "execution_count": 7,
   "metadata": {},
   "outputs": [
    {
     "data": {
      "text/plain": [
       "angry      127\n",
       "neutral     79\n",
       "happy       71\n",
       "fear        69\n",
       "sad         62\n",
       "disgust     46\n",
       "Name: labels, dtype: int64"
      ]
     },
     "execution_count": 7,
     "metadata": {},
     "output_type": "execute_result"
    }
   ],
   "source": [
    "dir_list = os.listdir(EMODB)\n",
    "dir_list.sort()\n",
    "if '.DS_Store' in dir_list:\n",
    "    dir_list = dir_list[1:]\n",
    "emotion = []\n",
    "gender = []\n",
    "path = []\n",
    "\n",
    "for f in dir_list:\n",
    "    # elimino L -> bored\n",
    "    if f[5] == \"L\": continue\n",
    "    emotion.append(f[5])\n",
    "    temp = f[0:2]\n",
    "    if temp in [\"03\", \"10\", \"11\", \"12\", \"15\"]:\n",
    "        temp = \"male\"\n",
    "    else:\n",
    "        temp = \"female\"\n",
    "    gender.append(temp)\n",
    "    path.append(EMODB + f)\n",
    "\n",
    "EMODB_df = pd.DataFrame(emotion, columns = ['labels'])\n",
    "EMODB_df = EMODB_df.replace({'N':'neutral', 'F':'happy', 'T':'sad', 'W':'angry', 'A':'fear', 'E':'disgust'})\n",
    "EMODB_df = pd.concat([EMODB_df,pd.DataFrame(gender, columns = ['gender'])],axis=1)\n",
    "EMODB_df['source'] = 'EmoDB' \n",
    "EMODB_df = pd.concat([EMODB_df,pd.DataFrame(path, columns = ['path'])],axis=1)\n",
    "EMODB_df.labels.value_counts()"
   ]
  },
  {
   "cell_type": "markdown",
   "metadata": {},
   "source": [
    "<h3>ShEMO dataset</h3>"
   ]
  },
  {
   "cell_type": "markdown",
   "metadata": {},
   "source": [
    "<a href=\"https://link.springer.com/article/10.1007/s10579-018-9427-x\">ShEMO link</a>"
   ]
  },
  {
   "cell_type": "code",
   "execution_count": 8,
   "metadata": {},
   "outputs": [
    {
     "data": {
      "text/plain": [
       "angry       1059\n",
       "neutral     1028\n",
       "sad          449\n",
       "surprise     225\n",
       "happy        201\n",
       "fear          38\n",
       "Name: labels, dtype: int64"
      ]
     },
     "execution_count": 8,
     "metadata": {},
     "output_type": "execute_result"
    }
   ],
   "source": [
    "dir_list = os.listdir(SHEMO + \"female\")\n",
    "dir_list += os.listdir(SHEMO + \"male\")\n",
    "if '.DS_Store' in dir_list:\n",
    "    dir_list = dir_list[1:]\n",
    "emotion = []\n",
    "gender = []\n",
    "path = []\n",
    "for f in dir_list:\n",
    "    st_path = SHEMO\n",
    "    emotion.append(f[3])\n",
    "    temp = f[0]\n",
    "    if temp == \"M\":\n",
    "        temp = \"male\"\n",
    "        st_path += \"male/\" + f\n",
    "    else:\n",
    "        temp = \"female\"\n",
    "        st_path += \"female/\" + f\n",
    "    gender.append(temp)\n",
    "    path.append(st_path)\n",
    "    \n",
    "SHEMO_df = pd.DataFrame(emotion, columns = ['labels'])\n",
    "SHEMO_df = SHEMO_df.replace({'N':'neutral', 'H':'happy', 'S':'sad', 'A':'angry', 'F':'fear', 'W':'surprise'})\n",
    "SHEMO_df = pd.concat([SHEMO_df,pd.DataFrame(gender, columns = ['gender'])],axis=1)\n",
    "SHEMO_df['source'] = 'ShEMO'  \n",
    "SHEMO_df = pd.concat([SHEMO_df,pd.DataFrame(path, columns = ['path'])],axis=1)\n",
    "SHEMO_df.labels.value_counts()"
   ]
  },
  {
   "cell_type": "markdown",
   "metadata": {},
   "source": [
    "<h3>URDU dataset</h3>"
   ]
  },
  {
   "cell_type": "markdown",
   "metadata": {},
   "source": [
    "<a href=\"https://github.com/siddiquelatif/URDU-Dataset\">URDU link</a>"
   ]
  },
  {
   "cell_type": "code",
   "execution_count": 9,
   "metadata": {},
   "outputs": [
    {
     "data": {
      "text/plain": [
       "angry      100\n",
       "happy      100\n",
       "neutral    100\n",
       "sad        100\n",
       "Name: labels, dtype: int64"
      ]
     },
     "execution_count": 9,
     "metadata": {},
     "output_type": "execute_result"
    }
   ],
   "source": [
    "dir_list = os.listdir(URDU)\n",
    "dir_list.sort()\n",
    "if '.DS_Store' in dir_list:\n",
    "    dir_list = dir_list[1:]\n",
    "new_dir_list = []\n",
    "for i in dir_list:\n",
    "    new_dir_list.append(URDU + i)\n",
    "    \n",
    "emotion = []\n",
    "gender = []\n",
    "path = []\n",
    "\n",
    "for i in new_dir_list:\n",
    "    fname = os.listdir(i)\n",
    "    for f in fname:\n",
    "        part = f.split('_')\n",
    "        emotion.append(part[2][0])\n",
    "        temp = part[0][1]\n",
    "        if temp[0] == 'F':\n",
    "            temp = \"female\"\n",
    "        else:\n",
    "            temp = \"male\"\n",
    "        gender.append(temp)\n",
    "        path.append(i + '/' + f)\n",
    "\n",
    "URUDU_df = pd.DataFrame(emotion, columns = ['labels'])\n",
    "URUDU_df = URUDU_df.replace({'N':'neutral', 'H':'happy', 'S':'sad', 'A':'angry'})\n",
    "URUDU_df = pd.concat([URUDU_df,pd.DataFrame(gender, columns = ['gender'])],axis=1)\n",
    "URUDU_df['source'] = 'URUDU'  \n",
    "URUDU_df = pd.concat([URUDU_df,pd.DataFrame(path, columns = ['path'])],axis=1)\n",
    "URUDU_df.labels.value_counts()"
   ]
  },
  {
   "cell_type": "markdown",
   "metadata": {},
   "source": [
    "<h3>JL dataset</h3>"
   ]
  },
  {
   "cell_type": "markdown",
   "metadata": {},
   "source": [
    "<a href=\"https://github.com/tli725/JL-Corpus\">JL link</a>"
   ]
  },
  {
   "cell_type": "code",
   "execution_count": 10,
   "metadata": {},
   "outputs": [
    {
     "data": {
      "text/plain": [
       "angry      240\n",
       "happy      240\n",
       "neutral    240\n",
       "sad        240\n",
       "Name: labels, dtype: int64"
      ]
     },
     "execution_count": 10,
     "metadata": {},
     "output_type": "execute_result"
    }
   ],
   "source": [
    "dir_list = os.listdir(JL)\n",
    "dir_list.sort()\n",
    "if '.DS_Store' in dir_list:\n",
    "    dir_list = dir_list[1:]\n",
    "\n",
    "emotion = []\n",
    "gender = []\n",
    "path = []\n",
    "for f in dir_list:\n",
    "    part = f.split('_')\n",
    "    if part[3][4] == 't':\n",
    "        continue\n",
    "    if part[1] in ['assertive', 'apologetic', 'excited', 'concerned', 'encouraging', 'anxious']:\n",
    "        continue\n",
    "    emotion.append(part[1])\n",
    "    temp = part[0][0]\n",
    "    if temp == 'f':\n",
    "        temp = \"female\"\n",
    "    else:\n",
    "        temp = \"male\"\n",
    "    gender.append(temp)\n",
    "    path.append(JL + f)\n",
    "JL_df = pd.DataFrame(emotion, columns = ['labels'])\n",
    "JL_df = pd.concat([JL_df,pd.DataFrame(gender, columns = ['gender'])],axis=1)\n",
    "JL_df['source'] = 'JL'  \n",
    "JL_df = pd.concat([JL_df,pd.DataFrame(path, columns = ['path'])],axis=1)\n",
    "JL_df.labels.value_counts()"
   ]
  },
  {
   "cell_type": "markdown",
   "metadata": {},
   "source": [
    "<h3>AESDD dataset</h3>"
   ]
  },
  {
   "cell_type": "markdown",
   "metadata": {},
   "source": [
    "<a href=\"http://m3c.web.auth.gr/research/aesdd-speech-emotion-recognition/\">AESDD link</a>"
   ]
  },
  {
   "cell_type": "code",
   "execution_count": 11,
   "metadata": {},
   "outputs": [
    {
     "data": {
      "text/plain": [
       "sad        123\n",
       "disgust    122\n",
       "angry      121\n",
       "fear       120\n",
       "happy      119\n",
       "Name: labels, dtype: int64"
      ]
     },
     "execution_count": 11,
     "metadata": {},
     "output_type": "execute_result"
    }
   ],
   "source": [
    "dir_list = os.listdir(AESDD)\n",
    "dir_list.sort()\n",
    "if '.DS_Store' in dir_list:\n",
    "    dir_list = dir_list[1:]\n",
    "\n",
    "emotion = []\n",
    "gender = []\n",
    "path = []\n",
    "for f in dir_list:\n",
    "    part = f.split(' ')\n",
    "    emotion.append(part[0][0])\n",
    "    temp = part[1][1]\n",
    "    if int(temp) in [1, 2, 5]:\n",
    "        temp = 'female'\n",
    "    else:\n",
    "        temp = 'male'\n",
    "    gender.append(temp)\n",
    "    path.append(AESDD + f)\n",
    "    \n",
    "AESDD_df = pd.DataFrame(emotion, columns = ['labels'])\n",
    "AESDD_df = AESDD_df.replace({'h':'happy', 's':'sad', 'a':'angry', 'f':'fear', 'd':'disgust'})\n",
    "AESDD_df = pd.concat([AESDD_df,pd.DataFrame(gender, columns = ['gender'])],axis=1)\n",
    "AESDD_df['source'] = 'AESDD'  \n",
    "AESDD_df = pd.concat([AESDD_df,pd.DataFrame(path, columns = ['path'])],axis=1)\n",
    "AESDD_df.labels.value_counts()"
   ]
  },
  {
   "cell_type": "markdown",
   "metadata": {},
   "source": [
    "<h3>Concatenating datasets</h3>"
   ]
  },
  {
   "cell_type": "code",
   "execution_count": 25,
   "metadata": {},
   "outputs": [
    {
     "name": "stdout",
     "output_type": "stream",
     "text": [
      "greek\n",
      "sad        123\n",
      "disgust    122\n",
      "angry      121\n",
      "fear       120\n",
      "happy      119\n",
      "Name: labels, dtype: int64\n",
      "tot\n",
      "2481.538312499999\n",
      "angry\n",
      "433.8998124999996\n",
      "neutral\n",
      "0\n",
      "sad\n",
      "562.77175\n",
      "happy\n",
      "478.8779375\n",
      "fear\n",
      "449.6054375\n",
      "disgust\n",
      "556.383375\n"
     ]
    }
   ],
   "source": [
    "'''# x language\n",
    "df = pd.concat([SAVEE_df, RAV_df, TESS_df, JL_df, \n",
    "                CREMA_df, EMOVO_df, EMODB_df, \n",
    "                SHEMO_df, URUDU_df, AESDD_df], axis = 0)\n",
    "print(df.labels.value_counts())\n",
    "df.head()\n",
    "df.to_csv(\"Data_path.csv\",index=False)\n",
    "#En\n",
    "print(\"en\")\n",
    "df = pd.concat([SAVEE_df, RAV_df, TESS_df, JL_df, \n",
    "                CREMA_df], axis = 0)\n",
    "df.head()\n",
    "df.to_csv(\"Data_path.csv\",index=False)\n",
    "\n",
    "#ger\n",
    "print(\"ger\")\n",
    "df = pd.concat([EMODB_df], axis = 0)\n",
    "print(df.labels.value_counts())\n",
    "df.head()\n",
    "df.to_csv(\"Data_path.csv\",index=False)\n",
    "\n",
    "#it\n",
    "print(\"it\")\n",
    "df = pd.concat([EMOVO_df], axis = 0)\n",
    "print(df.labels.value_counts())\n",
    "df.head()\n",
    "df.to_csv(\"Data_path.csv\",index=False)\n",
    "\n",
    "#urd\n",
    "print(\"urd\")\n",
    "df = pd.concat([URUDU_df], axis = 0)\n",
    "print(df.labels.value_counts())\n",
    "df.head()\n",
    "df.to_csv(\"Data_path.csv\",index=False)\n",
    "\n",
    "#pers\n",
    "print(\"pers\")\n",
    "df = pd.concat([SHEMO_df], axis = 0)\n",
    "print(df.labels.value_counts())\n",
    "df.head()\n",
    "df.to_csv(\"Data_path.csv\",index=False)\n",
    "'''\n",
    "#greek\n",
    "print(\"greek\")\n",
    "df = pd.concat([AESDD_df], axis = 0)\n",
    "print(df.labels.value_counts())\n",
    "df.head()\n",
    "df.to_csv(\"Data_path.csv\",index=False)\n",
    "\n",
    "ref = pd.read_csv(\"./Data_path.csv\")\n",
    "import soundfile as sf\n",
    "import wave\n",
    "import contextlib\n",
    "\n",
    "def conta_tot():\n",
    "    somma = 0\n",
    "    for i in range(len(ref.path)):\n",
    "        if i in [11866, 11867, 11868, 11869, 11870, 11871]:\n",
    "            continue\n",
    "        path = ref.path[i]\n",
    "        if ref.labels[i] == 'surprise':\n",
    "            continue\n",
    "        try:\n",
    "            y, sr = librosa.load(path, sr=16000, mono=True)\n",
    "            somma += librosa.get_duration(y=y, sr=16000)\n",
    "\n",
    "        except ValueError:\n",
    "            print('file', row, 'non utilizzabile.')\n",
    "    print(\"tot\")\n",
    "    print(somma)\n",
    "\n",
    "def conta(st):\n",
    "    somma = 0\n",
    "    for i in range(len(ref.path)):\n",
    "        if i in [11866, 11867, 11868, 11869, 11870, 11871]:\n",
    "            continue\n",
    "        path = ref.path[i]\n",
    "        if ref.labels[i] != st:\n",
    "            continue\n",
    "        try:\n",
    "            y, sr = librosa.load(path, sr=16000, mono=True)\n",
    "            somma += librosa.get_duration(y=y, sr=16000)\n",
    "\n",
    "        except ValueError:\n",
    "            print('file', row, 'non utilizzabile.')\n",
    "    print(st)\n",
    "    print(somma)\n",
    "\n",
    "conta_tot()\n",
    "    \n",
    "conta(\"angry\")\n",
    "\n",
    "conta(\"neutral\")\n",
    "\n",
    "conta(\"sad\")\n",
    "\n",
    "conta(\"happy\")\n",
    "\n",
    "conta(\"fear\")\n",
    "\n",
    "conta(\"disgust\")"
   ]
  },
  {
   "cell_type": "code",
   "execution_count": null,
   "metadata": {},
   "outputs": [],
   "source": [
    "df = pd.concat([SAVEE_df, RAV_df, TESS_df, JL_df, \n",
    "                CREMA_df, EMOVO_df, EMODB_df, \n",
    "                SHEMO_df, URUDU_df, AESDD_df], axis = 0)\n",
    "print(df.labels.value_counts())\n",
    "df.head()\n",
    "df.to_csv(\"Data_path.csv\",index=False)"
   ]
  },
  {
   "cell_type": "code",
   "execution_count": 19,
   "metadata": {},
   "outputs": [
    {
     "data": {
      "text/plain": [
       "labels    18169\n",
       "gender    18169\n",
       "source    18169\n",
       "path      18169\n",
       "dtype: int64"
      ]
     },
     "execution_count": 19,
     "metadata": {},
     "output_type": "execute_result"
    }
   ],
   "source": [
    "df.count()"
   ]
  },
  {
   "cell_type": "code",
   "execution_count": 20,
   "metadata": {},
   "outputs": [],
   "source": [
    "ref = pd.read_csv(\"./Data_path.csv\")"
   ]
  },
  {
   "cell_type": "markdown",
   "metadata": {},
   "source": [
    "<h5>Converting all files in 16kHz Mono</h5>"
   ]
  },
  {
   "cell_type": "markdown",
   "metadata": {},
   "source": [
    "<h4>creating dataset split in directories (representing the classes)</h4>"
   ]
  },
  {
   "cell_type": "code",
   "execution_count": 3,
   "metadata": {},
   "outputs": [],
   "source": [
    "import soundfile as sf\n",
    "for i in range(len(ref.path)):\n",
    "    if i in [11866, 11867, 11868, 11869, 11870, 11871]:\n",
    "        continue\n",
    "    path = ref.path[i]\n",
    "    if ref.labels[i] == 'surprise':\n",
    "        continue\n",
    "    try:\n",
    "        y, sr = librosa.load(path, sr=16000, mono=True)\n",
    "        new = 'split_directories/all_data/' + ref.labels[i] + '/' + str(i) + '.wav'\n",
    "        sf.write(new, y, sr)\n",
    "    except ValueError:\n",
    "        print('file', row, 'non utilizzabile.')"
   ]
  },
  {
   "cell_type": "code",
   "execution_count": 4,
   "metadata": {},
   "outputs": [],
   "source": [
    "import soundfile as sf\n",
    "for i in range(len(ref.path)):\n",
    "    if i in [11866, 11867, 11868, 11869, 11870, 11871]:\n",
    "        continue\n",
    "    path = ref.path[i]\n",
    "    if ref.labels[i] == 'surprise':\n",
    "        continue\n",
    "    try:\n",
    "        if ref.gender[i] == 'female':\n",
    "            y, sr = librosa.load(path, sr=16000, mono=True)\n",
    "            new = 'split_directories/female_data/' + ref.labels[i] + '/' + str(i) + '.wav'\n",
    "            sf.write(new, y, sr)\n",
    "    except ValueError:\n",
    "        print('file', row, 'non utilizzabile.')"
   ]
  },
  {
   "cell_type": "code",
   "execution_count": 5,
   "metadata": {},
   "outputs": [],
   "source": [
    "import soundfile as sf\n",
    "for i in range(len(ref.path)):\n",
    "    if i in [11866, 11867, 11868, 11869, 11870, 11871]:\n",
    "        continue\n",
    "    path = ref.path[i]\n",
    "    if ref.labels[i] == 'surprise':\n",
    "        continue\n",
    "    try:\n",
    "        if ref.gender[i] == 'male':\n",
    "            y, sr = librosa.load(path, sr=16000, mono=True)\n",
    "            new = 'split_directories/male_data/' + ref.labels[i] + '/' + str(i) + '.wav'\n",
    "            sf.write(new, y, sr)\n",
    "    except ValueError:\n",
    "        print('file', row, 'non utilizzabile.')"
   ]
  },
  {
   "cell_type": "code",
   "execution_count": 6,
   "metadata": {},
   "outputs": [],
   "source": [
    "import soundfile as sf\n",
    "for i in range(len(ref.path)):\n",
    "    if i in [11866, 11867, 11868, 11869, 11870, 11871]:\n",
    "        continue\n",
    "    path = ref.path[i]\n",
    "    if ref.labels[i] == 'surprise':\n",
    "        continue\n",
    "    try:\n",
    "        y, sr = librosa.load(path, sr=16000, mono=True)\n",
    "        if ref.gender[i] == 'male':\n",
    "            new = 'split_directories/maleVsFemale/male/' + str(i) + '.wav'\n",
    "            sf.write(new, y, sr)\n",
    "        else:\n",
    "            new = 'split_directories/maleVsFemale/female/' + str(i) + '.wav'\n",
    "            sf.write(new, y, sr)\n",
    "            \n",
    "    except ValueError:\n",
    "        print('file', row, 'non utilizzabile.')"
   ]
  },
  {
   "cell_type": "markdown",
   "metadata": {},
   "source": [
    "<h4>creating dataset in single directory</h4>"
   ]
  },
  {
   "cell_type": "code",
   "execution_count": 3,
   "metadata": {},
   "outputs": [],
   "source": [
    "import soundfile as sf\n",
    "ref = pd.read_csv(\"./Data_path.csv\")\n",
    "\n",
    "for i in range(len(ref.path)):\n",
    "    if i in [11866, 11867, 11868, 11869, 11870, 11871]:\n",
    "        continue\n",
    "    path = ref.path[i]\n",
    "    if ref.labels[i] == 'surprise':\n",
    "        continue\n",
    "    label = ref.labels[i]\n",
    "    dic = {'neutral':'N', 'happy':'F', 'sad':'T', 'angry':'W', 'fear':'A', 'disgust':'E'}\n",
    "    label = dic[label]\n",
    "    module = str(i%10)\n",
    "    st = str(i)\n",
    "    try:\n",
    "        y, sr = librosa.load(path, sr=16000, mono=True)\n",
    "        new = 'dataset_x_net/' + st + label + module + '.wav'\n",
    "        sf.write(new, y, sr)\n",
    "    except ValueError:\n",
    "        print('file', row, 'non utilizzabile.')"
   ]
  },
  {
   "cell_type": "code",
   "execution_count": 5,
   "metadata": {},
   "outputs": [],
   "source": [
    "import soundfile as sf\n",
    "ref = pd.read_csv(\"./Data_path.csv\")\n",
    "\n",
    "for i in range(len(ref.path)):\n",
    "    path = ref.path[i]\n",
    "    # leaving out male data\n",
    "    if ref.gender[i] == 'male' :\n",
    "        continue\n",
    "    if ref.labels[i] == 'surprise':\n",
    "        continue\n",
    "    label = ref.labels[i]\n",
    "    dic = {'neutral':'N', 'happy':'F', 'sad':'T', 'angry':'W', 'fear':'A', 'disgust':'E'}\n",
    "    label = dic[label]\n",
    "    module = str(i%10)\n",
    "    st = str(i)\n",
    "    if i in [11866, 11867, 11868, 11869, 11870, 11871]:\n",
    "        continue\n",
    "    try:\n",
    "        y, sr = librosa.load(path, sr=16000, mono=True)\n",
    "        new = 'dataset_x_net/' + st + label + module + '.wav'\n",
    "        sf.write(new, y, sr)\n",
    "    except ValueError:\n",
    "        print('file', row, 'non utilizzabile.')"
   ]
  },
  {
   "cell_type": "code",
   "execution_count": 6,
   "metadata": {},
   "outputs": [],
   "source": [
    "import soundfile as sf\n",
    "ref = pd.read_csv(\"./Data_path.csv\")\n",
    "\n",
    "for i in range(len(ref.path)):\n",
    "    # leaving out female data\n",
    "    if ref.gender[i] == 'female' :\n",
    "        continue\n",
    "    if i in [11866, 11867, 11868, 11869, 11870, 11871]:\n",
    "        continue\n",
    "    if ref.labels[i] == 'surprise':\n",
    "        continue\n",
    "    path = ref.path[i]\n",
    "    label = ref.labels[i]\n",
    "    dic = {'neutral':'N', 'happy':'F', 'sad':'T', 'angry':'W', 'fear':'A', 'disgust':'E'}\n",
    "    label = dic[label]\n",
    "    module = str(i%10)\n",
    "    st = str(i)\n",
    "    try:\n",
    "        y, sr = librosa.load(path, sr=16000, mono=True)\n",
    "        new = 'dataset_x_net/' + st + label + module + '.wav'\n",
    "        sf.write(new, y, sr)\n",
    "    except ValueError:\n",
    "        print('file', row, 'non utilizzabile.')"
   ]
  },
  {
   "cell_type": "markdown",
   "metadata": {},
   "source": [
    "<h2>Citations</h2>\n",
    "<h5>SAVEE</h5>\n",
    "<p>@inproceedings{Vlasenko_combiningframe,\n",
    "author = {Vlasenko, Bogdan and Schuller, Bjorn and Wendemuth, Andreas and Rigoll, Gerhard},\n",
    "year = {2007},\n",
    "month = {01},\n",
    "pages = {2249-2252},\n",
    "title = {Combining frame and turn-level information for robust recognition of emotions within speech},\n",
    "journal = {Proceedings of Interspeech}\n",
    "}</p>\n",
    "\n",
    "<h5>CREMA-D</h5>\n",
    "<p>@article{cao2014crema,\n",
    "  title={Crema-d: Crowd-sourced emotional multimodal actors dataset},\n",
    "  author={Cao, Houwei and Cooper, David G and Keutmann, Michael K and Gur, Ruben C and Nenkova, Ani and Verma, Ragini},\n",
    "  journal={IEEE transactions on affective computing},\n",
    "  volume={5},\n",
    "  number={4},\n",
    "  pages={377--390},\n",
    "  year={2014},\n",
    "  publisher={IEEE}\n",
    "}</p>\n",
    "\n",
    "<h5>RAVEDESS</h5>\n",
    "<p>@article{livingstone2018ryerson,\n",
    "  title={The Ryerson Audio-Visual Database of Emotional Speech and Song (RAVDESS): A dynamic, multimodal set of facial and vocal expressions in North American English},\n",
    "  author={Livingstone, Steven R and Russo, Frank A},\n",
    "  journal={PloS one},\n",
    "  volume={13},\n",
    "  number={5},\n",
    "  pages={e0196391},\n",
    "  year={2018},\n",
    "  publisher={Public Library of Science San Francisco, CA USA}\n",
    "}</p>\n",
    "\n",
    "<h5>TESS</h5>\n",
    "<p>@data{SP2/E8H2MF_2020,\n",
    "author = {Pichora-Fuller, M. Kathleen and Dupuis, Kate},\n",
    "publisher = {Scholars Portal Dataverse},\n",
    "title = {{Toronto emotional speech set (TESS)}},\n",
    "year = {2020},\n",
    "version = {DRAFT VERSION},\n",
    "doi = {10.5683/SP2/E8H2MF},\n",
    "url = {https://doi.org/10.5683/SP2/E8H2MF}\n",
    "}</p>\n",
    "\n",
    "<h5>EMOVO</h5>\n",
    "<p>@inproceedings{costantini2014emovo,\n",
    "  title={EMOVO corpus: an Italian emotional speech database},\n",
    "  author={Costantini, Giovanni and Iaderola, Iacopo and Paoloni, Andrea and Todisco, Massimiliano},\n",
    "  booktitle={International Conference on Language Resources and Evaluation (LREC 2014)},\n",
    "  pages={3501--3504},\n",
    "  year={2014},\n",
    "  organization={European Language Resources Association (ELRA)}\n",
    "}</p>\n",
    "\n",
    "<h5>EmoDB</h5>\n",
    "<p>@inproceedings{burkhardt2005database,\n",
    "  title={A database of German emotional speech.},\n",
    "  author={Burkhardt, Felix and Paeschke, Astrid and Rolfes, Miriam and Sendlmeier, Walter F and Weiss, Benjamin and others},\n",
    "  booktitle={Interspeech},\n",
    "  volume={5},\n",
    "  pages={1517--1520},\n",
    "  year={2005}\n",
    "}</p>\n",
    "\n",
    "<h5>ShEMO</h5>\n",
    "<p>@article{nezami2019shemo,\n",
    "  title={ShEMO: a large-scale validated database for Persian speech emotion detection},\n",
    "  author={Nezami, Omid Mohamad and Lou, Paria Jamshid and Karami, Mansoureh},\n",
    "  journal={Language Resources and Evaluation},\n",
    "  volume={53},\n",
    "  number={1},\n",
    "  pages={1--16},\n",
    "  year={2019},\n",
    "  publisher={Springer}\n",
    "}</p>\n",
    "\n",
    "<h5>URDU</h5>\n",
    "<p>@inproceedings{latif2018cross,\n",
    "  title={Cross lingual speech emotion recognition: Urdu vs. western languages},\n",
    "  author={Latif, Siddique and Qayyum, Adnan and Usman, Muhammad and Qadir, Junaid},\n",
    "  booktitle={2018 International Conference on Frontiers of Information Technology (FIT)},\n",
    "  pages={88--93},\n",
    "  year={2018},\n",
    "  organization={IEEE}\n",
    "}</p>\n",
    "\n",
    "<h5>JL</h5>\n",
    "<p>@inproceedings{james2018open,\n",
    "  title={An Open Source Emotional Speech Corpus for Human Robot Interaction Applications.},\n",
    "  author={James, Jesin and Tian, Li and Watson, Catherine Inez},\n",
    "  booktitle={INTERSPEECH},\n",
    "  pages={2768--2772},\n",
    "  year={2018}\n",
    "}</p>\n",
    "\n",
    "<h5>AESDD</h5>\n",
    "<p>@article{vryzas2018speech,\n",
    "  title={Speech emotion recognition for performance interaction},\n",
    "  author={Vryzas, Nikolaos and Kotsakis, Rigas and Liatsou, Aikaterini and Dimoulas, Charalampos A and Kalliris, George},\n",
    "  journal={Journal of the Audio Engineering Society},\n",
    "  volume={66},\n",
    "  number={6},\n",
    "  pages={457--467},\n",
    "  year={2018},\n",
    "  publisher={Audio Engineering Society}\n",
    "}</p>\n",
    "<p>@incollection{vryzas2018subjective,\n",
    "  title={Subjective Evaluation of a Speech Emotion Recognition Interaction Framework},\n",
    "  author={Vryzas, Nikolaos and Matsiola, Maria and Kotsakis, Rigas and Dimoulas, Charalampos and Kalliris, George},\n",
    "  booktitle={Proceedings of the Audio Mostly 2018 on Sound in Immersion and Emotion},\n",
    "  pages={1--7},\n",
    "  year={2018}\n",
    "}</p>\n"
   ]
  }
 ],
 "metadata": {
  "kernelspec": {
   "display_name": "Python 3 (ipykernel)",
   "language": "python",
   "name": "python3"
  },
  "language_info": {
   "codemirror_mode": {
    "name": "ipython",
    "version": 3
   },
   "file_extension": ".py",
   "mimetype": "text/x-python",
   "name": "python",
   "nbconvert_exporter": "python",
   "pygments_lexer": "ipython3",
   "version": "3.8.13"
  }
 },
 "nbformat": 4,
 "nbformat_minor": 4
}
